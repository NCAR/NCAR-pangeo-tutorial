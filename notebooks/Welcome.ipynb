{
 "cells": [
  {
   "cell_type": "markdown",
   "metadata": {},
   "source": [
    "# Congratulations You've Opened Your First Jupyter Notebook!\n",
    "\n",
    "This notebook briefly introduces the main components of the Jupyter Notebook environment.\n"
   ]
  },
  {
   "cell_type": "markdown",
   "metadata": {
    "toc": true
   },
   "source": [
    "<h1>Table of Contents<span class=\"tocSkip\"></span></h1>\n",
    "<div class=\"toc\"><ul class=\"toc-item\"><li><span><a href=\"#Congratulations-You've-Opened-Your-First-Jupyter-Notebook!\" data-toc-modified-id=\"Congratulations-You've-Opened-Your-First-Jupyter-Notebook!-1\"><span class=\"toc-item-num\">1&nbsp;&nbsp;</span>Congratulations You've Opened Your First Jupyter Notebook!</a></span><ul class=\"toc-item\"><li><span><a href=\"#Learning-Objectives\" data-toc-modified-id=\"Learning-Objectives-1.1\"><span class=\"toc-item-num\">1.1&nbsp;&nbsp;</span>Learning Objectives</a></span></li><li><span><a href=\"#What-Is-A-Jupyter-Notebook?\" data-toc-modified-id=\"What-Is-A-Jupyter-Notebook?-1.2\"><span class=\"toc-item-num\">1.2&nbsp;&nbsp;</span>What Is A Jupyter Notebook?</a></span></li><li><span><a href=\"#Notebook-User-Interface\" data-toc-modified-id=\"Notebook-User-Interface-1.3\"><span class=\"toc-item-num\">1.3&nbsp;&nbsp;</span>Notebook User Interface</a></span></li><li><span><a href=\"#What-Is-A-Notebook-Cell?\" data-toc-modified-id=\"What-Is-A-Notebook-Cell?-1.4\"><span class=\"toc-item-num\">1.4&nbsp;&nbsp;</span>What Is A Notebook Cell?</a></span><ul class=\"toc-item\"><li><span><a href=\"#Code-Cells\" data-toc-modified-id=\"Code-Cells-1.4.1\"><span class=\"toc-item-num\">1.4.1&nbsp;&nbsp;</span>Code Cells</a></span></li><li><span><a href=\"#Markdown-Cells\" data-toc-modified-id=\"Markdown-Cells-1.4.2\"><span class=\"toc-item-num\">1.4.2&nbsp;&nbsp;</span>Markdown Cells</a></span></li><li><span><a href=\"#Raw-Cells\" data-toc-modified-id=\"Raw-Cells-1.4.3\"><span class=\"toc-item-num\">1.4.3&nbsp;&nbsp;</span>Raw Cells</a></span></li></ul></li><li><span><a href=\"#Going-Further\" data-toc-modified-id=\"Going-Further-1.5\"><span class=\"toc-item-num\">1.5&nbsp;&nbsp;</span>Going Further</a></span></li></ul></li></ul></div>"
   ]
  },
  {
   "cell_type": "markdown",
   "metadata": {},
   "source": [
    "## Learning Objectives\n",
    "\n",
    "- Get familiar with Jupyter Notebook Interface"
   ]
  },
  {
   "cell_type": "markdown",
   "metadata": {},
   "source": [
    "----------------"
   ]
  },
  {
   "cell_type": "markdown",
   "metadata": {},
   "source": [
    "## What Is A Jupyter Notebook?"
   ]
  },
  {
   "cell_type": "markdown",
   "metadata": {},
   "source": [
    "- **Interactive**, browser-based computing environment\n",
    "- **Exploratory** data science, analysis, visualization\n",
    "- **Reproducible** document format:\n",
    "    - Code\n",
    "    - Narrative text (markdown)\n",
    "    - Equations (LaTeX)\n",
    "    - Images, Visualizations\n",
    "- Supports over over 100 programming languages (called “kernels” in the Jupyter ecosystem) including Python, Fortran, R, Julia, Matlab, NCL, C++, Processing, Scala, and many more. \n",
    "- A Jupyter notebook is internally a JSON file and is saved with the **`.ipynb`** extension. "
   ]
  },
  {
   "cell_type": "markdown",
   "metadata": {},
   "source": [
    "----------------"
   ]
  },
  {
   "cell_type": "markdown",
   "metadata": {},
   "source": [
    "## Notebook User Interface"
   ]
  },
  {
   "cell_type": "markdown",
   "metadata": {},
   "source": [
    "<img alt=\"notebook_ui\" src=\"../assets/notebook-user-interface.png\">"
   ]
  },
  {
   "cell_type": "markdown",
   "metadata": {},
   "source": [
    "\n",
    "\n",
    "**Menu bar**: The menu bar presents different options that may be used to manipulate the way the notebook functions.\n",
    "\n",
    "**Toolbar**: The tool bar gives a quick way of performing the most-used operations within the notebook, by clicking on an icon.\n",
    "\n",
    "**Code cell**: the default type of cell; read on for an explanation of cells.\n",
    "\n",
    "**Kernel**: A computational engine that will execute contained in a Jupyter Notebook"
   ]
  },
  {
   "cell_type": "markdown",
   "metadata": {},
   "source": [
    "----------------"
   ]
  },
  {
   "cell_type": "markdown",
   "metadata": {},
   "source": [
    "## What Is A Notebook Cell?\n",
    "\n",
    "The notebook consists of a sequence of cells. A cell is a multiline text input field, and its contents can be executed by using `Shift-Enter`, or by clicking either the “▶” button in the toolbar, or Cell, Run in the menu bar. \n",
    "\n",
    "The execution behavior of a cell is determined by the cell’s type. There are three types of cells: **code cells**, **markdown cells**, and **raw cells**. \n"
   ]
  },
  {
   "cell_type": "markdown",
   "metadata": {},
   "source": [
    "----------------"
   ]
  },
  {
   "cell_type": "markdown",
   "metadata": {},
   "source": [
    "### Code Cells\n",
    "\n",
    "A code cell allows you to edit and write new code, with full syntax highlighting and tab completion. The programming language you use depends on the kernel, and the default kernel (IPython) runs Python code.\n"
   ]
  },
  {
   "cell_type": "code",
   "execution_count": null,
   "metadata": {},
   "outputs": [],
   "source": [
    "print(\"hi, stdout\")"
   ]
  },
  {
   "cell_type": "code",
   "execution_count": null,
   "metadata": {},
   "outputs": [],
   "source": [
    "import time, sys\n",
    "for i in range(8):\n",
    "    print(i)\n",
    "    time.sleep(0.5)"
   ]
  },
  {
   "cell_type": "markdown",
   "metadata": {},
   "source": [
    "----------------"
   ]
  },
  {
   "cell_type": "markdown",
   "metadata": {},
   "source": [
    "### Markdown Cells\n",
    "\n",
    "Text can be added to Jupyter Notebooks using Markdown cells. You can change the cell type to Markdown by using the Cell menu, the toolbar, or the key shortcut m. Markdown is a popular markup language that is a superset of HTML. Its specification can be found here:\n",
    " \n",
    "https://daringfireball.net/projects/markdown/"
   ]
  },
  {
   "cell_type": "markdown",
   "metadata": {},
   "source": [
    "\n",
    "**LaTex Equations**\n",
    "\n",
    "\n",
    "You can include mathematical expressions both inline and displayed:\n",
    "\n",
    "- The Cauchy-Schwarz Inequality\n",
    "\n",
    "$$\\left( \\sum_{k=1}^n a_k b_k \\right)^2 \\leq \\left( \\sum_{k=1}^n a_k^2 \\right) \\left( \\sum_{k=1}^n b_k^2 \\right) $$\n",
    "\n",
    "- A Cross Product Formula \n",
    "\n",
    "$$\n",
    "\\mathbf{V}_1 \\times \\mathbf{V}_2 =  \\begin{vmatrix}\n",
    "\\mathbf{i} & \\mathbf{j} & \\mathbf{k} \\\\\n",
    "\\frac{\\partial X}{\\partial u} &  \\frac{\\partial Y}{\\partial u} & 0 \\\\\n",
    "\\frac{\\partial X}{\\partial v} &  \\frac{\\partial Y}{\\partial v} & 0\n",
    "\\end{vmatrix}$$\n",
    "\n",
    "- The probability of getting \\(k\\) heads when flipping \\(n\\) coins is $P(E)   = {n \\choose k} p^k (1-p)^{ n-k} $\n",
    "\n",
    "- An Identity of Ramanujan\n",
    "\n",
    "$$\\frac{1}{\\Bigl(\\sqrt{\\phi \\sqrt{5}}-\\phi\\Bigr) e^{\\frac25 \\pi}} =\n",
    "1+\\frac{e^{-2\\pi}} {1+\\frac{e^{-4\\pi}} {1+\\frac{e^{-6\\pi}}\n",
    "{1+\\frac{e^{-8\\pi}} {1+\\ldots} } } } $$\n",
    "\n",
    "- Maxwell’s Equations\n",
    "\n",
    "$$\\begin{aligned}\n",
    "\\nabla \\times \\vec{\\mathbf{B}} -\\, \\frac1c\\, \\frac{\\partial\\vec{\\mathbf{E}}}{\\partial t} & = \\frac{4\\pi}{c}\\vec{\\mathbf{j}} \\\\   \\nabla \\cdot \\vec{\\mathbf{E}} & = 4 \\pi \\rho \\\\\n",
    "\\nabla \\times \\vec{\\mathbf{E}}\\, +\\, \\frac1c\\, \\frac{\\partial\\vec{\\mathbf{B}}}{\\partial t} & = \\vec{\\mathbf{0}} \\\\\n",
    "\\nabla \\cdot \\vec{\\mathbf{B}} & = 0 \\end{aligned}\n",
    "$$"
   ]
  },
  {
   "cell_type": "markdown",
   "metadata": {},
   "source": [
    "----------------"
   ]
  },
  {
   "cell_type": "markdown",
   "metadata": {},
   "source": [
    "### Raw Cells\n",
    "\n",
    "Raw cells provide a place in which you can write output directly. Raw cells are not evaluated by the notebook. How freeing!"
   ]
  },
  {
   "cell_type": "raw",
   "metadata": {},
   "source": [
    "# This is a raw cell. Execute it and see what happens.\n",
    "\n",
    "a = 2 + 2\n",
    "print(a)"
   ]
  },
  {
   "cell_type": "markdown",
   "metadata": {},
   "source": [
    "----------------"
   ]
  },
  {
   "cell_type": "markdown",
   "metadata": {},
   "source": [
    "\n",
    "\n",
    "\n",
    "## Going Further\n",
    "\n",
    "\n",
    "- Getting Started with JupyterLab | SciPy 2019 Tutorial: https://www.youtube.com/watch?v=RFabWieskak     \n",
    "- JupyterLab Documentation: https://jupyterlab.readthedocs.io/en/stable/\n",
    "- Jupyter Notebook Ecosystem:https://jupyter4edu.github.io/jupyter-edu-book/jupyter.html\n",
    "\n",
    "\n",
    "\n"
   ]
  },
  {
   "cell_type": "markdown",
   "metadata": {},
   "source": [
    "<div class=\"alert alert-block alert-success\">\n",
    "  <p>Next: <a href=\"workflows/ocean_heat_content/00_intro.ipynb\">Sample Workflow: Calculate Ocean Heat Content</a></p>\n",
    "</div>"
   ]
  }
 ],
 "metadata": {
  "kernelspec": {
   "display_name": "Python 3",
   "language": "python",
   "name": "python3"
  },
  "language_info": {
   "codemirror_mode": {
    "name": "ipython",
    "version": 3
   },
   "file_extension": ".py",
   "mimetype": "text/x-python",
   "name": "python",
   "nbconvert_exporter": "python",
   "pygments_lexer": "ipython3",
   "version": "3.7.1"
  },
  "toc": {
   "base_numbering": 1,
   "nav_menu": {},
   "number_sections": true,
   "sideBar": true,
   "skip_h1_title": false,
   "title_cell": "Table of Contents",
   "title_sidebar": "Contents",
   "toc_cell": true,
   "toc_position": {},
   "toc_section_display": true,
   "toc_window_display": true
  }
 },
 "nbformat": 4,
 "nbformat_minor": 4
}
