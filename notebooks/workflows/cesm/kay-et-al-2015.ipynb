{
 "cells": [
  {
   "cell_type": "markdown",
   "metadata": {},
   "source": [
    "# THE COMMUNITY EARTH SYSTEM MODEL (CESM) LARGE ENSEMBLE PROJECT"
   ]
  },
  {
   "cell_type": "markdown",
   "metadata": {},
   "source": [
    "Paper: https://journals.ametsoc.org/doi/pdf/10.1175/BAMS-D-13-00255.1\n",
    "\n",
    "Authors: Kay et al. 2015"
   ]
  },
  {
   "cell_type": "markdown",
   "metadata": {
    "toc": true
   },
   "source": [
    "<h1>Table of Contents<span class=\"tocSkip\"></span></h1>\n",
    "<div class=\"toc\"><ul class=\"toc-item\"><li><span><a href=\"#THE-COMMUNITY-EARTH-SYSTEM-MODEL-(CESM)-LARGE-ENSEMBLE-PROJECT\" data-toc-modified-id=\"THE-COMMUNITY-EARTH-SYSTEM-MODEL-(CESM)-LARGE-ENSEMBLE-PROJECT-1\"><span class=\"toc-item-num\">1&nbsp;&nbsp;</span>THE COMMUNITY EARTH SYSTEM MODEL (CESM) LARGE ENSEMBLE PROJECT</a></span><ul class=\"toc-item\"><li><span><a href=\"#Learning-Objectives\" data-toc-modified-id=\"Learning-Objectives-1.1\"><span class=\"toc-item-num\">1.1&nbsp;&nbsp;</span>Learning Objectives</a></span></li><li><span><a href=\"#Create-Dask-Cluster\" data-toc-modified-id=\"Create-Dask-Cluster-1.2\"><span class=\"toc-item-num\">1.2&nbsp;&nbsp;</span>Create Dask Cluster</a></span></li><li><span><a href=\"#Load-data-into-xarray-from-an-intake-esm-catalog\" data-toc-modified-id=\"Load-data-into-xarray-from-an-intake-esm-catalog-1.3\"><span class=\"toc-item-num\">1.3&nbsp;&nbsp;</span>Load data into xarray from an intake-esm catalog</a></span></li><li><span><a href=\"#Get-Observation-data-(HadCRUT4;-Morice-et-al.-2012)\" data-toc-modified-id=\"Get-Observation-data-(HadCRUT4;-Morice-et-al.-2012)-1.4\"><span class=\"toc-item-num\">1.4&nbsp;&nbsp;</span>Get Observation data (HadCRUT4; Morice et al. 2012)</a></span></li><li><span><a href=\"#Compute-areacella\" data-toc-modified-id=\"Compute-areacella-1.5\"><span class=\"toc-item-num\">1.5&nbsp;&nbsp;</span>Compute areacella</a></span></li><li><span><a href=\"#Compute-weighted-spatial-means-for-model-data\" data-toc-modified-id=\"Compute-weighted-spatial-means-for-model-data-1.6\"><span class=\"toc-item-num\">1.6&nbsp;&nbsp;</span>Compute weighted spatial means for model data</a></span></li><li><span><a href=\"#Compute-weighted-temporal-mean-for-obs-data\" data-toc-modified-id=\"Compute-weighted-temporal-mean-for-obs-data-1.7\"><span class=\"toc-item-num\">1.7&nbsp;&nbsp;</span>Compute weighted temporal mean for obs data</a></span></li><li><span><a href=\"#Confirm-that-after-using-area-weighted-average,-max-temp-increase-is-5k\" data-toc-modified-id=\"Confirm-that-after-using-area-weighted-average,-max-temp-increase-is-5k-1.8\"><span class=\"toc-item-num\">1.8&nbsp;&nbsp;</span>Confirm that after using area weighted average, max temp increase is 5k</a></span></li><li><span><a href=\"#Figure-2:-Global-surface-temperature-anomaly-(1961-90-base-period)-for-individual-ensemble-members,-and-observations\" data-toc-modified-id=\"Figure-2:-Global-surface-temperature-anomaly-(1961-90-base-period)-for-individual-ensemble-members,-and-observations-1.9\"><span class=\"toc-item-num\">1.9&nbsp;&nbsp;</span>Figure 2: Global surface temperature anomaly (1961-90 base period) for individual ensemble members, and observations</a></span></li><li><span><a href=\"#Compute-Linear-Trend-for-boreal-winter-seasons-(DJF)\" data-toc-modified-id=\"Compute-Linear-Trend-for-boreal-winter-seasons-(DJF)-1.10\"><span class=\"toc-item-num\">1.10&nbsp;&nbsp;</span>Compute Linear Trend for boreal winter seasons (DJF)</a></span></li><li><span><a href=\"#Figure-4:-Global-maps-of-historical-(1979---2012)-boreal-winter-(DJF)-surface-air-trends\" data-toc-modified-id=\"Figure-4:-Global-maps-of-historical-(1979---2012)-boreal-winter-(DJF)-surface-air-trends-1.11\"><span class=\"toc-item-num\">1.11&nbsp;&nbsp;</span>Figure 4: Global maps of historical (1979 - 2012) boreal winter (DJF) surface air trends</a></span></li><li><span><a href=\"#Going-Further\" data-toc-modified-id=\"Going-Further-1.12\"><span class=\"toc-item-num\">1.12&nbsp;&nbsp;</span>Going Further</a></span></li></ul></li></ul></div>"
   ]
  },
  {
   "cell_type": "code",
   "execution_count": null,
   "metadata": {},
   "outputs": [],
   "source": [
    "%matplotlib inline\n",
    "import warnings\n",
    "warnings.filterwarnings('ignore')\n",
    "import intake\n",
    "from ncar_jobqueue import NCARCluster\n",
    "from dask.distributed import Client\n",
    "import numpy as np\n",
    "import xarray as xr\n",
    "import pandas as pd\n",
    "import matplotlib.pyplot as plt\n",
    "import scipy.stats"
   ]
  },
  {
   "cell_type": "code",
   "execution_count": null,
   "metadata": {},
   "outputs": [],
   "source": [
    "import logging\n",
    "logger = logging.getLogger(\"distributed.utils_perf\")\n",
    "logger.setLevel(logging.ERROR)"
   ]
  },
  {
   "cell_type": "code",
   "execution_count": null,
   "metadata": {},
   "outputs": [],
   "source": [
    "import dask\n",
    "dask.config.set({'distributed.dashboard.link': '/proxy/{port}/status'})"
   ]
  },
  {
   "cell_type": "markdown",
   "metadata": {},
   "source": [
    "## Learning Objectives"
   ]
  },
  {
   "cell_type": "markdown",
   "metadata": {},
   "source": [
    "## Create Dask Cluster"
   ]
  },
  {
   "cell_type": "code",
   "execution_count": null,
   "metadata": {},
   "outputs": [],
   "source": [
    "cluster = NCARCluster(memory=\"40GB\")\n",
    "cluster.adapt(minimum=1, maximum=200, wait_count=60)\n",
    "cluster"
   ]
  },
  {
   "cell_type": "code",
   "execution_count": null,
   "metadata": {},
   "outputs": [],
   "source": [
    "client = Client(cluster)\n",
    "client"
   ]
  },
  {
   "cell_type": "code",
   "execution_count": null,
   "metadata": {},
   "outputs": [],
   "source": [
    "col = intake.open_esm_metadatastore(collection_name='CESM1-LE')"
   ]
  },
  {
   "cell_type": "code",
   "execution_count": null,
   "metadata": {},
   "outputs": [],
   "source": [
    "col"
   ]
  },
  {
   "cell_type": "code",
   "execution_count": null,
   "metadata": {},
   "outputs": [],
   "source": [
    "col.df.head()"
   ]
  },
  {
   "cell_type": "markdown",
   "metadata": {},
   "source": [
    "## Load data into xarray from an intake-esm catalog"
   ]
  },
  {
   "cell_type": "code",
   "execution_count": null,
   "metadata": {},
   "outputs": [],
   "source": [
    "_, ds_20C = col.search(component='atm', stream='cam.h1', variable='TREFHT', experiment='20C').to_xarray(chunks={'time': 712}, override_coords=True).popitem()\n",
    "_, ds_rcp = col.search(component='atm', stream='cam.h1', variable='TREFHT', experiment='RCP85').to_xarray(chunks={'time': 712}, override_coords=True).popitem()\n",
    "t_20c = ds_20C['TREFHT']\n",
    "t_rcp = ds_rcp['TREFHT']"
   ]
  },
  {
   "cell_type": "code",
   "execution_count": null,
   "metadata": {},
   "outputs": [],
   "source": [
    "t_ref = t_20c.sel(time=slice('1961', '1990'))\n",
    "t_ref"
   ]
  },
  {
   "cell_type": "markdown",
   "metadata": {},
   "source": [
    "## Get Observation data (HadCRUT4; Morice et al. 2012)"
   ]
  },
  {
   "cell_type": "code",
   "execution_count": null,
   "metadata": {},
   "outputs": [],
   "source": [
    "ds = xr.open_dataset('https://www.esrl.noaa.gov/psd/thredds/dodsC/Datasets/cru/hadcrut4/air.mon.anom.median.nc').load()\n",
    "obs = ds['air']\n",
    "obs"
   ]
  },
  {
   "cell_type": "markdown",
   "metadata": {},
   "source": [
    "## Compute areacella\n",
    "\n",
    "\n",
    "Area element: $\\delta A = R^2 \\delta \\phi \\delta \\lambda \\cos(\\phi)$\n",
    "    \n",
    "where ϕ is latitude, δϕ is the spacing of the points in latitude, δλ is the spacing of the points in longitude, and R is Earth's radius. (In this formula, ϕ and λ are measured in radians.)"
   ]
  },
  {
   "cell_type": "code",
   "execution_count": null,
   "metadata": {},
   "outputs": [],
   "source": [
    "R = 6.371e6\n",
    "total_area = (4 * np.pi * R**2)\n",
    "dϕ = np.radians((t_ref['lat'][1]-t_ref['lat'][0]).values)\n",
    "dλ = np.radians((t_ref['lon'][1]-t_ref['lon'][0]).values)\n",
    "dA = R**2 * np.abs(dϕ * dλ) * np.cos(np.radians(t_ref.lat))\n",
    "areacella = dA * (0 * t_ref.isel(member_id=0, time=0) + 1)\n",
    "areacella.plot()"
   ]
  },
  {
   "cell_type": "code",
   "execution_count": null,
   "metadata": {},
   "outputs": [],
   "source": [
    "areacella.sum().values / total_area"
   ]
  },
  {
   "cell_type": "markdown",
   "metadata": {},
   "source": [
    "## Compute weighted spatial means for model data"
   ]
  },
  {
   "cell_type": "code",
   "execution_count": null,
   "metadata": {},
   "outputs": [],
   "source": [
    "t_ref_ts = ((t_ref.resample(time='AS').mean('time') * areacella)\\\n",
    "             .sum(dim=('lat', 'lon')) / total_area)\\\n",
    "             .mean(dim=('time', 'member_id'))\n",
    "t_20c_ts = ((t_20c.resample(time='AS').mean('time') * areacella)\\\n",
    "            .sum(dim=('lat', 'lon'))) / total_area\n",
    "t_rcp_ts = ((t_rcp.resample(time='AS').mean('time') * areacella)\\\n",
    "            .sum(dim=('lat', 'lon'))) / total_area"
   ]
  },
  {
   "cell_type": "code",
   "execution_count": null,
   "metadata": {},
   "outputs": [],
   "source": [
    "t_ref_mean = t_ref_ts.load()\n",
    "t_ref_mean"
   ]
  },
  {
   "cell_type": "code",
   "execution_count": null,
   "metadata": {},
   "outputs": [],
   "source": [
    "t_20c_ts_df = t_20c_ts.to_series().unstack().T\n",
    "t_20c_ts_df.head()"
   ]
  },
  {
   "cell_type": "code",
   "execution_count": null,
   "metadata": {},
   "outputs": [],
   "source": [
    "t_rcp_ts_df = t_rcp_ts.to_series().unstack().T\n",
    "t_rcp_ts_df.head()"
   ]
  },
  {
   "cell_type": "markdown",
   "metadata": {},
   "source": [
    "## Compute weighted temporal mean for obs data"
   ]
  },
  {
   "cell_type": "code",
   "execution_count": null,
   "metadata": {},
   "outputs": [],
   "source": [
    "ds.time_bnds"
   ]
  },
  {
   "cell_type": "code",
   "execution_count": null,
   "metadata": {},
   "outputs": [],
   "source": [
    "time_bound_diff = ds.time_bnds.diff(dim='nbnds')[:, 0]\n",
    "time_bound_diff"
   ]
  },
  {
   "cell_type": "code",
   "execution_count": null,
   "metadata": {},
   "outputs": [],
   "source": [
    "wgts = time_bound_diff.groupby('time.year') / time_bound_diff.groupby('time.year')\\\n",
    "                      .sum(xr.ALL_DIMS)\n",
    "wgts"
   ]
  },
  {
   "cell_type": "code",
   "execution_count": null,
   "metadata": {},
   "outputs": [],
   "source": [
    "np.testing.assert_allclose(wgts.groupby('time.year').sum(xr.ALL_DIMS), 1.0)"
   ]
  },
  {
   "cell_type": "code",
   "execution_count": null,
   "metadata": {},
   "outputs": [],
   "source": [
    "cond = obs.isnull()\n",
    "ones = xr.where(cond, 0.0, 1.0)\n",
    "obs_sum = (obs * wgts).resample(time='AS').sum(dim='time')\n",
    "ones_out = (ones * wgts).resample(time='AS').sum(dim='time')\n",
    "obs_s = (obs_sum / ones_out).mean(('lat', 'lon')).to_series()\n",
    "obs_s.head()"
   ]
  },
  {
   "cell_type": "code",
   "execution_count": null,
   "metadata": {},
   "outputs": [],
   "source": [
    "all_ts_anom = pd.concat([t_20c_ts_df, t_rcp_ts_df]) - t_ref_mean.data\n",
    "years = [val.year for val in all_ts_anom.index]"
   ]
  },
  {
   "cell_type": "markdown",
   "metadata": {},
   "source": [
    "## Confirm that after using area weighted average, max temp increase is 5k"
   ]
  },
  {
   "cell_type": "code",
   "execution_count": null,
   "metadata": {},
   "outputs": [],
   "source": [
    "np.testing.assert_allclose(all_ts_anom.values.max(), 5.0, rtol=0.02)"
   ]
  },
  {
   "cell_type": "markdown",
   "metadata": {},
   "source": [
    "## Figure 2: Global surface temperature anomaly (1961-90 base period) for individual ensemble members, and observations"
   ]
  },
  {
   "cell_type": "markdown",
   "metadata": {},
   "source": [
    "![kay-et-al-2015-figure-2](../../../assets/kay-et-al-2015-figure-2.png)"
   ]
  },
  {
   "cell_type": "code",
   "execution_count": null,
   "metadata": {},
   "outputs": [],
   "source": [
    "ax = plt.axes()\n",
    "\n",
    "ax.tick_params(right=True, top=True, direction='out', length=6, width=2, grid_alpha=0.5)\n",
    "ax.plot(years, all_ts_anom, color='grey')\n",
    "ax.plot(years, all_ts_anom[1], color='black')\n",
    "ax.plot(obs_s.index.year.tolist(), obs_s, color='red')\n",
    "\n",
    "ax.text(0.3, 0.4, 'observations',\n",
    "        verticalalignment='bottom', horizontalalignment='left',\n",
    "        transform=ax.transAxes,\n",
    "        color='red', fontsize=10)\n",
    "ax.text(0.3, 0.3, 'members 1-40',\n",
    "        verticalalignment='bottom', horizontalalignment='left',\n",
    "        transform=ax.transAxes,\n",
    "        color='grey', fontsize=10)\n",
    "\n",
    "ax.set_xticks([1850, 1920, 1950, 2000, 2050, 2100])\n",
    "plt.ylim(-1, 5)\n",
    "plt.xlim(1850, 2100)\n",
    "plt.ylabel('Global Surface\\nTemperature Anomaly (K)')\n",
    "plt.show()"
   ]
  },
  {
   "cell_type": "markdown",
   "metadata": {},
   "source": [
    "## Compute Linear Trend for boreal winter seasons (DJF)"
   ]
  },
  {
   "cell_type": "code",
   "execution_count": null,
   "metadata": {},
   "outputs": [],
   "source": [
    "def linear_trend(da, dim='time'):\n",
    "    da_chunk = da.chunk({dim: -1})\n",
    "    trend = xr.apply_ufunc(calc_slope, da_chunk,\n",
    "                           vectorize=True,\n",
    "                           input_core_dims=[[dim]],\n",
    "                           output_core_dims=[[]],\n",
    "                           output_dtypes=[np.float],\n",
    "                           dask='parallelized')\n",
    "    return trend\n",
    "    \n",
    "\n",
    "def calc_slope(y):\n",
    "    \"\"\"ufunc to be used by linear_trend\"\"\"\n",
    "    x = np.arange(len(y))\n",
    "    return np.polyfit(x, y, 1)[0]"
   ]
  },
  {
   "cell_type": "code",
   "execution_count": null,
   "metadata": {},
   "outputs": [],
   "source": [
    "# TODO - this should probably include only full seasons from 1979 and 2012\n",
    "t = xr.concat([t_20c, t_rcp], dim='time')\n",
    "seasons = t.sel(time=slice('1979', '2012')).resample(time='QS-DEC').mean('time').load()"
   ]
  },
  {
   "cell_type": "code",
   "execution_count": null,
   "metadata": {},
   "outputs": [],
   "source": [
    "winter_seasons = seasons.sel(time=seasons.time.where(seasons.time.dt.month == 12, drop=True))\n",
    "winter_trends = linear_trend(winter_seasons.chunk({'lat': 20, 'lon': 20, 'time': -1}))\\\n",
    "                .load() * len(winter_seasons.time)"
   ]
  },
  {
   "cell_type": "code",
   "execution_count": null,
   "metadata": {},
   "outputs": [],
   "source": [
    "# TODO: this should be 34 I think, its not!\n",
    "# assert len(winter_seasons.time) == 34  "
   ]
  },
  {
   "cell_type": "code",
   "execution_count": null,
   "metadata": {},
   "outputs": [],
   "source": [
    "len(winter_seasons.time)"
   ]
  },
  {
   "cell_type": "markdown",
   "metadata": {},
   "source": [
    "## Figure 4: Global maps of historical (1979 - 2012) boreal winter (DJF) surface air trends"
   ]
  },
  {
   "cell_type": "markdown",
   "metadata": {},
   "source": [
    "![kay-et-al-2015-figure-4](../../../assets/kay-et-al-2015-figure-4.png)"
   ]
  },
  {
   "cell_type": "code",
   "execution_count": null,
   "metadata": {},
   "outputs": [],
   "source": [
    "import cartopy.crs as ccrs"
   ]
  },
  {
   "cell_type": "code",
   "execution_count": null,
   "metadata": {},
   "outputs": [],
   "source": [
    "fig = plt.figure(dpi=300)\n",
    "levels = [-7, -6, -5, -4, -3, -2, -1, -0.5, 0, 0.5, 1, 2, 3, 4, 5, 6, 7]\n",
    "fg = winter_trends.plot(col='member_id', col_wrap=4, transform=ccrs.PlateCarree(),\n",
    "            subplot_kws={'projection': ccrs.Robinson(central_longitude=180)},\n",
    "            add_colorbar=False, levels=levels, cmap='RdYlBu_r', extend='neither')\n",
    "\n",
    "for ax in fg.axes.flat:\n",
    "    ax.coastlines(color='grey')\n",
    "    \n",
    "# TODO: move the subplot title to lower left corners\n",
    "# TODO: Add obs panel and ensemble mean at the end\n",
    "    \n",
    "fg.add_colorbar(orientation='horizontal')\n",
    "fg.cbar.set_label('1979-2012 DJF surface air temperature trends (K/34 years)')\n",
    "fg.cbar.set_ticks(levels)\n",
    "fg.cbar.set_ticklabels(levels)\n",
    "plt.show()"
   ]
  },
  {
   "cell_type": "markdown",
   "metadata": {},
   "source": [
    "## Going Further"
   ]
  },
  {
   "cell_type": "code",
   "execution_count": null,
   "metadata": {},
   "outputs": [],
   "source": []
  }
 ],
 "metadata": {
  "kernelspec": {
   "display_name": "Python [conda env:python-tutorial]",
   "language": "python",
   "name": "conda-env-python-tutorial-py"
  },
  "language_info": {
   "codemirror_mode": {
    "name": "ipython",
    "version": 3
   },
   "file_extension": ".py",
   "mimetype": "text/x-python",
   "name": "python",
   "nbconvert_exporter": "python",
   "pygments_lexer": "ipython3",
   "version": "3.7.3"
  },
  "toc": {
   "base_numbering": 1,
   "nav_menu": {},
   "number_sections": true,
   "sideBar": true,
   "skip_h1_title": false,
   "title_cell": "Table of Contents",
   "title_sidebar": "Contents",
   "toc_cell": true,
   "toc_position": {},
   "toc_section_display": true,
   "toc_window_display": true
  }
 },
 "nbformat": 4,
 "nbformat_minor": 4
}
