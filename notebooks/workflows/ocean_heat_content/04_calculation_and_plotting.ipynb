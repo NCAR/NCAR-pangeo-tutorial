{
 "cells": [
  {
   "cell_type": "markdown",
   "metadata": {},
   "source": [
    "# Book 4 of 4: OHC Calculation and Plotting\n"
   ]
  },
  {
   "cell_type": "markdown",
   "metadata": {
    "toc": true
   },
   "source": [
    "<h1>Table of Contents<span class=\"tocSkip\"></span></h1>\n",
    "<div class=\"toc\"><ul class=\"toc-item\"><li><span><a href=\"#Book-4-of-4:-OHC-Calculation-and-Plotting\" data-toc-modified-id=\"Book-4-of-4:-OHC-Calculation-and-Plotting-1\"><span class=\"toc-item-num\">1&nbsp;&nbsp;</span>Book 4 of 4: OHC Calculation and Plotting</a></span><ul class=\"toc-item\"><li><span><a href=\"#Learning-Objectives\" data-toc-modified-id=\"Learning-Objectives-1.1\"><span class=\"toc-item-num\">1.1&nbsp;&nbsp;</span>Learning Objectives</a></span></li><li><span><a href=\"#Previously:\" data-toc-modified-id=\"Previously:-1.2\"><span class=\"toc-item-num\">1.2&nbsp;&nbsp;</span>Previously:</a></span></li><li><span><a href=\"#OHC-Calculation\" data-toc-modified-id=\"OHC-Calculation-1.3\"><span class=\"toc-item-num\">1.3&nbsp;&nbsp;</span>OHC Calculation</a></span><ul class=\"toc-item\"><li><span><a href=\"#-Task-1----Write-a-function-to-calculate-Ocean-Heat-Content\" data-toc-modified-id=\"-Task-1----Write-a-function-to-calculate-Ocean-Heat-Content-1.3.1\"><span class=\"toc-item-num\">1.3.1&nbsp;&nbsp;</span> Task 1 -  Write a function to calculate Ocean Heat Content</a></span></li></ul></li><li><span><a href=\"#Bringing-it-all-together\" data-toc-modified-id=\"Bringing-it-all-together-1.4\"><span class=\"toc-item-num\">1.4&nbsp;&nbsp;</span>Bringing it all together</a></span></li><li><span><a href=\"#Plotting\" data-toc-modified-id=\"Plotting-1.5\"><span class=\"toc-item-num\">1.5&nbsp;&nbsp;</span>Plotting</a></span></li><li><span><a href=\"#Going-further:\" data-toc-modified-id=\"Going-further:-1.6\"><span class=\"toc-item-num\">1.6&nbsp;&nbsp;</span>Going further:</a></span></li></ul></li></ul></div>"
   ]
  },
  {
   "cell_type": "markdown",
   "metadata": {},
   "source": [
    "## Learning Objectives\n",
    "\n",
    "- Perform the Ocean-Heat-Content calculation and learn to costumize plots of the results."
   ]
  },
  {
   "cell_type": "markdown",
   "metadata": {},
   "source": [
    "----------------"
   ]
  },
  {
   "cell_type": "markdown",
   "metadata": {},
   "source": [
    "## Previously:\n",
    "\n",
    "- We imported the Xarray module and loaded our data.\n",
    "- Check and convert units of temperature and depth.\n",
    "- We subselected our data to limit the depth of our calculation."
   ]
  },
  {
   "cell_type": "code",
   "execution_count": null,
   "metadata": {},
   "outputs": [],
   "source": [
    "import xarray as xr\n",
    "import cf_units as cf\n",
    "\n",
    "path = '../../../data/'\n",
    "file = path + 'thetao_Omon_historical_GISS-E2-1-G_r1i1p1f1_gn_185001-187012.nc'\n",
    "\n",
    "def change_units(ds, variable_str, variable_bounds_str, target_unit_str):\n",
    "    orig_units = cf.Unit(ds[variable_str].attrs['units'])\n",
    "    target_units = cf.Unit(target_unit_str)\n",
    "    variable_in_new_units = xr.apply_ufunc(orig_units.convert, ds[variable_bounds_str], target_units, dask='parallelized', output_dtypes=[ds[variable_bounds_str].dtype])\n",
    "    return variable_in_new_units\n",
    "\n",
    "\n",
    "def limit_depth_of_variables(level_bounds, temperature, depth_limit): \n",
    "    level_bounds_limited = level_bounds.where(level_bounds < depth_limit, depth_limit)\n",
    "    delta_level = abs(level_bounds_limited[:, 1] - level_bounds_limited[:, 0])\n",
    "    \n",
    "    delta_level_limited = delta_level.where(delta_level != 0, drop = True)\n",
    "    temperature_limited = temperature.where(delta_level != 0, drop = True)\n",
    "    \n",
    "    return delta_level_limited, temperature_limited\n",
    "\n",
    "\n",
    "\n",
    "ds = xr.open_dataset(file, chunks = {'time': 16})\n",
    "\n",
    "level_bounds_in_m = change_units(ds, 'lev', 'lev_bnds', 'm')\n",
    "temperature_in_degK = change_units(ds, 'thetao', 'thetao', 'degK') \n",
    "\n",
    "delta_level_limited, temperature_limited = limit_depth_of_variables(level_bounds_in_m, temperature_in_degK, 50)"
   ]
  },
  {
   "cell_type": "markdown",
   "metadata": {},
   "source": [
    "------------"
   ]
  },
  {
   "cell_type": "markdown",
   "metadata": {},
   "source": [
    "## OHC Calculation\n",
    "\n",
    "\n",
    "Now we can do some math and actually _calculate the ocean heat content_!\n",
    "\n",
    "The formula for this is:\n",
    "\n",
    "$$ H = \\rho  C \\int_{0}^{z}T(z) dz $$\n",
    "\n",
    "Where H is ocean heat content, the value we are trying to calculate,\n",
    "\n",
    "$\\rho$ is the density of sea water, $1026$ $kg/m^3$,\n",
    "\n",
    "$C$ is the specific heat of sea water, $3990$ $J/(kg K)$,\n",
    "\n",
    "$z$ is the depth limit of the calculation in meters,\n",
    "\n",
    "and $T$ is the temperature at each depth in degrees Kelvin."
   ]
  },
  {
   "cell_type": "markdown",
   "metadata": {},
   "source": [
    "<h3 style=\"color:red\"> Task 1 -  Write a function to calculate Ocean Heat Content</h3>\n",
    "\n",
    "\n",
    "Write a function for the ocean heat content equation in the code cell block below:"
   ]
  },
  {
   "cell_type": "code",
   "execution_count": null,
   "metadata": {},
   "outputs": [],
   "source": [
    "# Your code here"
   ]
  },
  {
   "cell_type": "markdown",
   "metadata": {},
   "source": [
    "This is my function:"
   ]
  },
  {
   "cell_type": "code",
   "execution_count": null,
   "metadata": {},
   "outputs": [],
   "source": [
    "# %load solutions/solution_4_1.py"
   ]
  },
  {
   "cell_type": "markdown",
   "metadata": {},
   "source": [
    "----------------"
   ]
  },
  {
   "cell_type": "markdown",
   "metadata": {},
   "source": [
    "## Bringing it all together\n",
    "\n",
    "Let's combine all of our helper functions into one routine that opens the file, checks/converts units, limits depth, and performs the calculation. \n",
    "\n",
    "In a function when an input is specified as `a=SomeValue` that means that the input `a` is optional, and if a is not provided the value `SomeValue` is used. In the below function this is used to specify a standard depth limit for the heat calculation."
   ]
  },
  {
   "cell_type": "code",
   "execution_count": null,
   "metadata": {},
   "outputs": [],
   "source": [
    "def calc_heat_from_file(file, depth_limit=275):\n",
    "    ds = xr.open_dataset(file)\n",
    "    \n",
    "    level_bounds_in_m = change_units(ds, 'lev', 'lev_bnds', 'm')\n",
    "    temperature_in_degK = change_units(ds, 'thetao', 'thetao', 'degK') \n",
    "    \n",
    "    delta_level_limited, temperature_limited = limit_depth_of_variables(level_bounds_in_m, \n",
    "                                                                        temperature_in_degK, \n",
    "                                                                        depth_limit)\n",
    "    \n",
    "    heat = calc_ocean_heat(delta_level_limited, temperature_limited)\n",
    "    heat.attrs['units'] = 'Joules/K'\n",
    "    return heat"
   ]
  },
  {
   "cell_type": "code",
   "execution_count": null,
   "metadata": {},
   "outputs": [],
   "source": [
    "heat = calc_heat_from_file(file)\n",
    "heat"
   ]
  },
  {
   "cell_type": "markdown",
   "metadata": {},
   "source": [
    "-------------"
   ]
  },
  {
   "cell_type": "markdown",
   "metadata": {},
   "source": [
    "##  Plotting\n",
    "\n",
    "**Congratulations 🎉** you calculated the ocean heat content. You probably want to look at your data or produce some figures to communicate your findings. The next section of the notebook is all about plotting methods.\n",
    "\n",
    "First, if you are working in a Jupyter notebook (which you are), you need to specify to display plots under the code cell block. To do that you need the following command:"
   ]
  },
  {
   "cell_type": "code",
   "execution_count": null,
   "metadata": {},
   "outputs": [],
   "source": [
    "%matplotlib inline"
   ]
  },
  {
   "cell_type": "markdown",
   "metadata": {},
   "source": [
    "Xarray has built-in plotting functionality called by `.plot()` that will intelligently pick the best plotting method for a DataSet."
   ]
  },
  {
   "cell_type": "code",
   "execution_count": null,
   "metadata": {},
   "outputs": [],
   "source": [
    "heat.plot()"
   ]
  },
  {
   "cell_type": "markdown",
   "metadata": {},
   "source": [
    "The above method produced a histogram of heat values because you have data in 2 spatial dimensions and 1 in time. \n",
    "\n",
    "Let's one point in time using Xarray's `isel` method. `isel` refers to index-select and allows you to name the dimension in which you are subselecting. Read more about indexing and selecting data from an Xarray DataSet [here](http://xarray.pydata.org/en/stable/indexing.html)."
   ]
  },
  {
   "cell_type": "code",
   "execution_count": null,
   "metadata": {},
   "outputs": [],
   "source": [
    "heat_time0 = heat.isel(time=0)\n",
    "heat_time0"
   ]
  },
  {
   "cell_type": "code",
   "execution_count": null,
   "metadata": {},
   "outputs": [],
   "source": [
    "heat_time0.plot()"
   ]
  },
  {
   "cell_type": "markdown",
   "metadata": {},
   "source": [
    "Reminder: `isel` is in contrast to `.sel` which allows you to select data by value.\n",
    "\n",
    "Below we look for data between January and February in the year 1860:"
   ]
  },
  {
   "cell_type": "code",
   "execution_count": null,
   "metadata": {},
   "outputs": [],
   "source": [
    "heat_Jan_1860 = heat.sel(time=slice('1860-01-01','1860-02-01')).squeeze('time')\n",
    "heat_Jan_1860"
   ]
  },
  {
   "cell_type": "markdown",
   "metadata": {},
   "source": [
    "Use the `cmap` to change your color map. I will use a different color map for each example to demonstrate some options. Be sure to follow [guidelines](https://seaborn.pydata.org/tutorial/color_palettes.html) about selecting good colormaps. "
   ]
  },
  {
   "cell_type": "code",
   "execution_count": null,
   "metadata": {
    "scrolled": true
   },
   "outputs": [],
   "source": [
    "heat_Jan_1860.plot(cmap='Blues')"
   ]
  },
  {
   "cell_type": "code",
   "execution_count": null,
   "metadata": {},
   "outputs": [],
   "source": [
    "import matplotlib.pyplot as plt"
   ]
  },
  {
   "cell_type": "code",
   "execution_count": null,
   "metadata": {},
   "outputs": [],
   "source": [
    "fig, axes = plt.subplots(ncols=2)\n",
    "heat_time0.plot(ax=axes[0])\n",
    "heat_Jan_1860.plot(ax=axes[1])\n",
    "plt.tight_layout()"
   ]
  },
  {
   "cell_type": "markdown",
   "metadata": {},
   "source": [
    "Use the `cmap` to change your color map. I will use a different color map for each example to demonstrate some options. Be sure to follow [guidelines](https://seaborn.pydata.org/tutorial/color_palettes.html) about selecting good colormaps. "
   ]
  },
  {
   "cell_type": "markdown",
   "metadata": {},
   "source": [
    "Xarray is intelligent about attributes in plotting. If we add units, our colorbar will automatically be labeled. \n",
    "\n",
    "Let's specify a units attribute for our heat values:"
   ]
  },
  {
   "cell_type": "markdown",
   "metadata": {},
   "source": [
    "Perhaps you want the contour plot to have discrete levels. You can do this by specifying the number of levels like-so:"
   ]
  },
  {
   "cell_type": "code",
   "execution_count": null,
   "metadata": {},
   "outputs": [],
   "source": [
    "heat_time0.plot(cmap='gist_earth', levels=30)"
   ]
  },
  {
   "cell_type": "markdown",
   "metadata": {},
   "source": [
    "Or you can specify the space and color of each level:"
   ]
  },
  {
   "cell_type": "code",
   "execution_count": null,
   "metadata": {
    "scrolled": false
   },
   "outputs": [],
   "source": [
    "levels = [0, 2.8e11, 3e11, 3.2e11, 3.3e11]\n",
    "level_colors = [\"#9b59b6\", \"#3498db\", \"#95a5a6\", \"#e74c3c\", \"#34495e\", \"#2ecc71\"]\n",
    "heat_time0.plot(levels=levels, colors=level_colors)"
   ]
  },
  {
   "cell_type": "markdown",
   "metadata": {},
   "source": [
    "If you want to plot multiple plots on the same colorbar, it is useful to normalize your colorbar. Some options are matplotlib's `colors.Normalize`, `colors.BoundaryNorm`, and `colors.LogNorm` which allows you to put your data on a logarithmic color bar. Read about colormap normalization [here](https://matplotlib.org/users/colormapnorms.html). "
   ]
  },
  {
   "cell_type": "code",
   "execution_count": null,
   "metadata": {},
   "outputs": [],
   "source": [
    "from matplotlib import colors"
   ]
  },
  {
   "cell_type": "code",
   "execution_count": null,
   "metadata": {},
   "outputs": [],
   "source": [
    "cmin = 2.8e11\n",
    "cmax = 3.4e11\n",
    "cnorm = colors.Normalize(cmin, cmax)\n",
    "\n",
    "fig, axes = plt.subplots(ncols=2)\n",
    "heat_time0.plot(ax=axes[0], norm=cnorm)\n",
    "heat_Jan_1860.plot(ax=axes[1], norm=cnorm)\n",
    "plt.tight_layout()"
   ]
  },
  {
   "cell_type": "code",
   "execution_count": null,
   "metadata": {},
   "outputs": [],
   "source": [
    "cmin = 2.8e11\n",
    "cmax = 3.4e11\n",
    "cnorm = colors.LogNorm(cmin, cmax)\n",
    "\n",
    "heat_time0.plot(norm=cnorm, cmap='terrain')"
   ]
  },
  {
   "cell_type": "markdown",
   "metadata": {},
   "source": [
    "Maybe you want to plot the difference between two time stamps and pick a diverging colormap for positive and negative differences."
   ]
  },
  {
   "cell_type": "code",
   "execution_count": null,
   "metadata": {},
   "outputs": [],
   "source": [
    "heat_diff = heat_time0 - heat_Jan_1860\n",
    "heat_diff.attrs['units'] = 'Joules/K'\n",
    "heat_diff"
   ]
  },
  {
   "cell_type": "code",
   "execution_count": null,
   "metadata": {},
   "outputs": [],
   "source": [
    "heat_diff.plot(cmap='RdBu')"
   ]
  },
  {
   "cell_type": "markdown",
   "metadata": {},
   "source": [
    "Wouldn't it be nice to see land borders on the above plot?\n",
    "\n",
    "We can use [Cartopy](https://scitools.org.uk/cartopy/docs/latest/) for this!"
   ]
  },
  {
   "cell_type": "code",
   "execution_count": null,
   "metadata": {},
   "outputs": [],
   "source": [
    "import cartopy.crs as ccrs"
   ]
  },
  {
   "cell_type": "code",
   "execution_count": null,
   "metadata": {},
   "outputs": [],
   "source": [
    "ax = plt.axes(projection=ccrs.PlateCarree())\n",
    "heat_diff.plot(ax=ax, cmap='seismic')\n",
    "ax.set_global() \n",
    "ax.coastlines()"
   ]
  },
  {
   "cell_type": "markdown",
   "metadata": {},
   "source": [
    "Or you can use different projections!"
   ]
  },
  {
   "cell_type": "code",
   "execution_count": null,
   "metadata": {},
   "outputs": [],
   "source": [
    "ax = plt.axes(projection=ccrs.Orthographic(-80, 35))\n",
    "heat_diff.plot.contourf(ax=ax, transform=ccrs.PlateCarree(), cmap='Spectral')\n",
    "ax.set_global()\n",
    "ax.coastlines()\n"
   ]
  },
  {
   "cell_type": "markdown",
   "metadata": {},
   "source": [
    "## Going further:\n",
    "- Xarray plotting documentation: http://xarray.pydata.org/en/stable/plotting.html\n",
    "- Matplotlib documentation: https://matplotlib.org/\n",
    "- Cartopy documentation: https://scitools.org.uk/cartopy/docs/latest/\n",
    "- How to choose good color maps: http://colorbrewer2.org/#type=sequential&scheme=BuGn&n=3"
   ]
  },
  {
   "cell_type": "markdown",
   "metadata": {},
   "source": [
    "<div class=\"alert alert-block alert-success\">\n",
    "  <p>Previous: <a href=\"03_units.ipynb\">Units</a></p>\n",
    "</div>"
   ]
  }
 ],
 "metadata": {
  "kernelspec": {
   "display_name": "Python 3",
   "language": "python",
   "name": "python3"
  },
  "language_info": {
   "codemirror_mode": {
    "name": "ipython",
    "version": 3
   },
   "file_extension": ".py",
   "mimetype": "text/x-python",
   "name": "python",
   "nbconvert_exporter": "python",
   "pygments_lexer": "ipython3",
   "version": "3.7.1"
  },
  "toc": {
   "base_numbering": 1,
   "nav_menu": {},
   "number_sections": true,
   "sideBar": true,
   "skip_h1_title": false,
   "title_cell": "Table of Contents",
   "title_sidebar": "Contents",
   "toc_cell": true,
   "toc_position": {},
   "toc_section_display": true,
   "toc_window_display": true
  }
 },
 "nbformat": 4,
 "nbformat_minor": 2
}
