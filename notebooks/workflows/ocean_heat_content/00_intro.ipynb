{
 "cells": [
  {
   "cell_type": "markdown",
   "metadata": {
    "toc": true
   },
   "source": [
    "<h1>Table of Contents<span class=\"tocSkip\"></span></h1>\n",
    "<div class=\"toc\"><ul class=\"toc-item\"><li><span><a href=\"#Computing-Ocean-Heat-Content-(OHC)\" data-toc-modified-id=\"Computing-Ocean-Heat-Content-(OHC)-1\"><span class=\"toc-item-num\">1&nbsp;&nbsp;</span>Computing Ocean Heat Content (OHC)</a></span></li></ul></div>"
   ]
  },
  {
   "cell_type": "markdown",
   "metadata": {},
   "source": [
    "# Computing Ocean Heat Content (OHC)\n",
    "\n",
    "Now that you're familiar with the Jupyter Notebook workspace, let's use some Python in a way that mirrors a potential usecase and integrates the teaching of Python geoscience tools when you would need them. We've prepared a series of 4 notebooks that demonstrate Python Tools through the calculation of Ocean Heat Content (OHC). Throughout these notebooks, we will introduce the following concepts:\n",
    "\n",
    "- Python modules\n",
    "- Xarray Library\n",
    "\n",
    "\n",
    "The contents in each notebook takes build up on the previous notebook. Therefore, we recommend following these notebooks in order (1-4) until you are familiar with all the concepts presented. "
   ]
  },
  {
   "cell_type": "markdown",
   "metadata": {},
   "source": [
    "<div class=\"alert alert-block alert-success\">\n",
    "  <p>Next: <a href=\"01_modules_and_xarray_datasets.ipynb\">Modules and Xarray Datasets</a></p>\n",
    "</div>"
   ]
  }
 ],
 "metadata": {
  "kernelspec": {
   "display_name": "Python [conda env:analysis]",
   "language": "python",
   "name": "conda-env-analysis-py"
  },
  "language_info": {
   "codemirror_mode": {
    "name": "ipython",
    "version": 3
   },
   "file_extension": ".py",
   "mimetype": "text/x-python",
   "name": "python",
   "nbconvert_exporter": "python",
   "pygments_lexer": "ipython3",
   "version": "3.7.3"
  },
  "toc": {
   "base_numbering": 1,
   "nav_menu": {},
   "number_sections": true,
   "sideBar": true,
   "skip_h1_title": false,
   "title_cell": "Table of Contents",
   "title_sidebar": "Contents",
   "toc_cell": true,
   "toc_position": {},
   "toc_section_display": true,
   "toc_window_display": true
  }
 },
 "nbformat": 4,
 "nbformat_minor": 2
}
