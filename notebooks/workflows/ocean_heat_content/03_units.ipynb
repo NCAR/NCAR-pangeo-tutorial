{
 "cells": [
  {
   "cell_type": "markdown",
   "metadata": {},
   "source": [
    "# Book 3 of 4: Working with Units\n",
    "\n"
   ]
  },
  {
   "cell_type": "markdown",
   "metadata": {
    "toc": true
   },
   "source": [
    "<h1>Table of Contents<span class=\"tocSkip\"></span></h1>\n",
    "<div class=\"toc\"><ul class=\"toc-item\"><li><span><a href=\"#Book-3-of-4:-Working-with-Units\" data-toc-modified-id=\"Book-3-of-4:-Working-with-Units-1\"><span class=\"toc-item-num\">1&nbsp;&nbsp;</span>Book 3 of 4: Working with Units</a></span><ul class=\"toc-item\"><li><span><a href=\"#Learning-Objectives\" data-toc-modified-id=\"Learning-Objectives-1.1\"><span class=\"toc-item-num\">1.1&nbsp;&nbsp;</span>Learning Objectives</a></span></li><li><span><a href=\"#Previously-On:\" data-toc-modified-id=\"Previously-On:-1.2\"><span class=\"toc-item-num\">1.2&nbsp;&nbsp;</span>Previously On:</a></span></li><li><span><a href=\"#Checking-Units-Manually\" data-toc-modified-id=\"Checking-Units-Manually-1.3\"><span class=\"toc-item-num\">1.3&nbsp;&nbsp;</span>Checking Units Manually</a></span></li><li><span><a href=\"#Using-cf_units\" data-toc-modified-id=\"Using-cf_units-1.4\"><span class=\"toc-item-num\">1.4&nbsp;&nbsp;</span>Using <code>cf_units</code></a></span><ul class=\"toc-item\"><li><span><a href=\"#-Task-1---Perform-unit-conversion-on-a-temperature-value-\" data-toc-modified-id=\"-Task-1---Perform-unit-conversion-on-a-temperature-value--1.4.1\"><span class=\"toc-item-num\">1.4.1&nbsp;&nbsp;</span> Task 1 - Perform unit conversion on a temperature value </a></span></li></ul></li><li><span><a href=\"#Using-apply_ufunc\" data-toc-modified-id=\"Using-apply_ufunc-1.5\"><span class=\"toc-item-num\">1.5&nbsp;&nbsp;</span>Using <code>apply_ufunc</code></a></span><ul class=\"toc-item\"><li><span><a href=\"#What-is-apply_ufunc?\" data-toc-modified-id=\"What-is-apply_ufunc?-1.5.1\"><span class=\"toc-item-num\">1.5.1&nbsp;&nbsp;</span>What is apply_ufunc?</a></span></li><li><span><a href=\"#-Task-2----Write-a-function-for-unit-conversion\" data-toc-modified-id=\"-Task-2----Write-a-function-for-unit-conversion-1.5.2\"><span class=\"toc-item-num\">1.5.2&nbsp;&nbsp;</span> Task 2 -  Write a function for unit conversion</a></span></li><li><span><a href=\"#-Task-3----Call-up-your-unit-conversion-function\" data-toc-modified-id=\"-Task-3----Call-up-your-unit-conversion-function-1.5.3\"><span class=\"toc-item-num\">1.5.3&nbsp;&nbsp;</span> Task 3 -  Call up your unit conversion function</a></span></li></ul></li><li><span><a href=\"#Going-Futher:\" data-toc-modified-id=\"Going-Futher:-1.6\"><span class=\"toc-item-num\">1.6&nbsp;&nbsp;</span>Going Futher:</a></span></li></ul></li></ul></div>"
   ]
  },
  {
   "cell_type": "markdown",
   "metadata": {},
   "source": [
    "## Learning Objectives\n",
    "\n",
    "- Use Xarray's metadata and the `cfunits` package to convert units of dataset variables."
   ]
  },
  {
   "cell_type": "markdown",
   "metadata": {},
   "source": [
    "----------------"
   ]
  },
  {
   "cell_type": "markdown",
   "metadata": {},
   "source": [
    "## Previously On:\n",
    "\n",
    "- We imported the Xarray module and loaded our data.\n",
    "- We wrote a function to subselect by depth."
   ]
  },
  {
   "cell_type": "code",
   "execution_count": null,
   "metadata": {},
   "outputs": [],
   "source": [
    "import xarray as xr\n",
    "\n",
    "path = '../../../data/'\n",
    "file = path + 'thetao_Omon_historical_GISS-E2-1-G_r1i1p1f1_gn_185001-187012.nc'\n",
    "ds = xr.open_dataset(file)\n",
    "\n",
    "def limit_depth_of_variables(level_bounds, temperature, depth_limit): \n",
    "    level_bounds_limited = level_bounds.where(level_bounds < depth_limit, depth_limit)\n",
    "    delta_level = abs(level_bounds_limited[:, 1] - level_bounds_limited[:, 0])\n",
    "    \n",
    "    delta_level_limited = delta_level.where(delta_level != 0, drop = True)\n",
    "    temperature_limited = temperature.where(delta_level != 0, drop = True)\n",
    "    \n",
    "    return delta_level_limited, temperature_limited\n",
    "\n",
    "delta_level_limited, temperature_limited = limit_depth_of_variables(ds['lev_bnds'], ds['thetao'], 50)"
   ]
  },
  {
   "cell_type": "markdown",
   "metadata": {},
   "source": [
    "----------------"
   ]
  },
  {
   "cell_type": "markdown",
   "metadata": {},
   "source": [
    "## Checking Units Manually\n",
    "\n",
    "In an Xarray Dataset, units are stores as attributes of variables. You can access the units as follows:"
   ]
  },
  {
   "cell_type": "code",
   "execution_count": null,
   "metadata": {},
   "outputs": [],
   "source": [
    "level_units = ds['thetao'].attrs['units']\n",
    "level_units"
   ]
  },
  {
   "cell_type": "markdown",
   "metadata": {},
   "source": [
    "Say we wanted to convert all temperature values from Celsius to Kelvin. \n",
    "\n",
    "First we apply the conversion, then we add our new units attribute."
   ]
  },
  {
   "cell_type": "code",
   "execution_count": null,
   "metadata": {},
   "outputs": [],
   "source": [
    "heat_in_Kelvin = ds['thetao'] + 273.15\n",
    "heat_in_Kelvin.attrs['units'] = 'degK'\n",
    "heat_in_Kelvin"
   ]
  },
  {
   "cell_type": "markdown",
   "metadata": {},
   "source": [
    "## Using `cf_units`\n",
    "\n",
    "In many routines, checking and converting betweeen units is complicated. But in Python we have a great tool `cf_units` that can do this quickly and easily as long as the data is cf-compliant.\n",
    "\n",
    "**What is cf_units?** \n",
    "\n",
    "Cf_units is a package that stores, combines, and compares physical units, allowing the user to perform unit conversion. You can read more about this package [here](https://scitools.org.uk/cf-units/docs/latest/unit.html)\n",
    "\n",
    "Let's import `cf_units` library"
   ]
  },
  {
   "cell_type": "code",
   "execution_count": null,
   "metadata": {},
   "outputs": [],
   "source": [
    "import cf_units as cf"
   ]
  },
  {
   "cell_type": "markdown",
   "metadata": {},
   "source": [
    "The first functionality we will use is `cf_units.Unit()` where you pass in units either as a string or by pointing to the datset attribute containing units and cf_units checks if this unit is supported and converts it to the class `Units`.\n",
    "\n",
    "First, we wil look at the units at only one point along the levels dimension."
   ]
  },
  {
   "cell_type": "code",
   "execution_count": null,
   "metadata": {},
   "outputs": [],
   "source": [
    "level_point = ds['lev'][0]\n",
    "level_point"
   ]
  },
  {
   "cell_type": "code",
   "execution_count": null,
   "metadata": {},
   "outputs": [],
   "source": [
    "orig_units = cf.Unit(level_point.attrs['units'])\n",
    "orig_units"
   ]
  },
  {
   "cell_type": "markdown",
   "metadata": {},
   "source": [
    "Then we will use `cf_units.Unit.convert` to convert from our original units to our target units."
   ]
  },
  {
   "cell_type": "code",
   "execution_count": null,
   "metadata": {},
   "outputs": [],
   "source": [
    "target_units = cf.Unit('km')\n",
    "orig_units.convert(level_point, target_units)"
   ]
  },
  {
   "cell_type": "markdown",
   "metadata": {},
   "source": [
    "<h3 style=\"color:red\"> Task 1 - Perform unit conversion on a temperature value </h3>\n",
    "\n",
    "Use cf_units to make sure or convert the time variable (`thetao`) into degrees Kelvin (`degK`) in the code cell block below:"
   ]
  },
  {
   "cell_type": "code",
   "execution_count": null,
   "metadata": {},
   "outputs": [],
   "source": [
    "# Your code here"
   ]
  },
  {
   "cell_type": "code",
   "execution_count": null,
   "metadata": {},
   "outputs": [],
   "source": [
    "# %load solutions/solution_3_1.py"
   ]
  },
  {
   "cell_type": "markdown",
   "metadata": {},
   "source": [
    "Cf_units is nice because you can tell the code to convert your data to a specific unit without needing to explicitly know your current units. This allows more consistency in your workflows, so you can use the same code for temperature in C or in K."
   ]
  },
  {
   "cell_type": "markdown",
   "metadata": {},
   "source": [
    "--------------"
   ]
  },
  {
   "cell_type": "markdown",
   "metadata": {},
   "source": [
    "## Using `apply_ufunc`\n",
    "\n",
    "You will notice that the `cf_units.Unit.convert` function caused us to lose the information contained in our Xarray DataArray. We will fix this by using `xarray.apply_ufunc` (u_func refers to user function).\n",
    "\n",
    "### What is apply_ufunc?\n",
    "\n",
    "`apply_ufunc` is a tool from the Xarray package that maps functions. It allows you to apply a function to every element of a DataArray while maintaining Xarray's attribute formatting and functionality. You can read more about `xarray.apply_ufunc` [here](http://xarray.pydata.org/en/stable/generated/xarray.apply_ufunc.html).\n",
    "\n",
    "In this example the keyword arguments to `apply_ufunc` are the function (`orig_units.convert`), then the input arguments of that function (the dataarray and target units), then dask (here we specify we want to parallelize the function), and `output_dtypes` (where we specify the datatype of the output to be the same as the input)."
   ]
  },
  {
   "cell_type": "code",
   "execution_count": null,
   "metadata": {
    "scrolled": false
   },
   "outputs": [],
   "source": [
    "level_bounds_in_km = xr.apply_ufunc(orig_units.convert, ds.lev_bnds, target_units, \n",
    "                                    output_dtypes=[ds.lev_bnds.dtype])\n",
    "level_bounds_in_km"
   ]
  },
  {
   "cell_type": "markdown",
   "metadata": {},
   "source": [
    "<h3 style=\"color:red\"> Task 2 -  Write a function for unit conversion</h3>\n",
    "\n",
    "This is only took us three lines of code to write, but you may want to check, convert, or assert desired units for every variable in a dataset. Your code will be much easier to read if this process is inside a function which you call up in one line. So let's write a function for unit conversion in the code cell block below:"
   ]
  },
  {
   "cell_type": "code",
   "execution_count": null,
   "metadata": {},
   "outputs": [],
   "source": [
    "# Your code here"
   ]
  },
  {
   "cell_type": "markdown",
   "metadata": {},
   "source": [
    "Here is my function:"
   ]
  },
  {
   "cell_type": "code",
   "execution_count": null,
   "metadata": {},
   "outputs": [],
   "source": [
    "# %load solutions/solution_3_2.py"
   ]
  },
  {
   "cell_type": "markdown",
   "metadata": {},
   "source": [
    "I used inputs of the dataset, the variable in that dataset, the variable bounds (because often the unit attribute is associated with the variable but you want to adjust values of the variable bounds too), and the target units. You may have used different inputs."
   ]
  },
  {
   "cell_type": "markdown",
   "metadata": {},
   "source": [
    "<h3 style=\"color:red\"> Task 3 -  Call up your unit conversion function</h3>\n",
    "\n",
    "Now use your function to assert your level bounds (`lev_bnds`) and temperature (`thetao`) DataSet variables units to that of meters ('m') and degrees Kelvin ('degK') in the code cell block below:"
   ]
  },
  {
   "cell_type": "code",
   "execution_count": null,
   "metadata": {},
   "outputs": [],
   "source": [
    "# Your code here"
   ]
  },
  {
   "cell_type": "markdown",
   "metadata": {},
   "source": [
    "For my function, this looks as follows:"
   ]
  },
  {
   "cell_type": "code",
   "execution_count": null,
   "metadata": {},
   "outputs": [],
   "source": [
    "# %load solutions/solution_3_3.py"
   ]
  },
  {
   "cell_type": "markdown",
   "metadata": {},
   "source": [
    "## Going Futher:\n",
    " - Reading about CF conventions: http://cfconventions.org/\n",
    " - Reading about cf_units the package: https://scitools.org.uk/cf-units/docs/latest/unit.html\n",
    " - apply_ufunc documentation: http://xarray.pydata.org/en/stable/generated/xarray.apply_ufunc.html"
   ]
  },
  {
   "cell_type": "markdown",
   "metadata": {},
   "source": [
    "<div class=\"alert alert-block alert-success\">\n",
    "  <p>Previous: <a href=\"02_subselecting_and_indexing_data.ipynb\">Subselecting and Indexing Data</a></p>\n",
    "  <p>Next: <a href=\"04_calculation_and_plotting.ipynb\">OHC Calculation and Plotting</a></p>\n",
    "</div>"
   ]
  }
 ],
 "metadata": {
  "kernelspec": {
   "display_name": "Python 3",
   "language": "python",
   "name": "python3"
  },
  "language_info": {
   "codemirror_mode": {
    "name": "ipython",
    "version": 3
   },
   "file_extension": ".py",
   "mimetype": "text/x-python",
   "name": "python",
   "nbconvert_exporter": "python",
   "pygments_lexer": "ipython3",
   "version": "3.7.1"
  },
  "toc": {
   "base_numbering": 1,
   "nav_menu": {},
   "number_sections": true,
   "sideBar": true,
   "skip_h1_title": false,
   "title_cell": "Table of Contents",
   "title_sidebar": "Contents",
   "toc_cell": true,
   "toc_position": {},
   "toc_section_display": true,
   "toc_window_display": true
  }
 },
 "nbformat": 4,
 "nbformat_minor": 2
}
