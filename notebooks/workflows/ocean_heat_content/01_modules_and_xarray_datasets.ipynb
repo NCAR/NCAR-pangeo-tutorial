{
 "cells": [
  {
   "cell_type": "markdown",
   "metadata": {},
   "source": [
    "# Book 1 of 4: Importing Modules and the Xarray DataSet"
   ]
  },
  {
   "cell_type": "markdown",
   "metadata": {
    "toc": true
   },
   "source": [
    "<h1>Table of Contents<span class=\"tocSkip\"></span></h1>\n",
    "<div class=\"toc\"><ul class=\"toc-item\"><li><span><a href=\"#Book-1-of-4:-Importing-Modules-and-the-Xarray-DataSet\" data-toc-modified-id=\"Book-1-of-4:-Importing-Modules-and-the-Xarray-DataSet-1\"><span class=\"toc-item-num\">1&nbsp;&nbsp;</span>Book 1 of 4: Importing Modules and the Xarray DataSet</a></span><ul class=\"toc-item\"><li><span><a href=\"#Learning-Objectives\" data-toc-modified-id=\"Learning-Objectives-1.1\"><span class=\"toc-item-num\">1.1&nbsp;&nbsp;</span>Learning Objectives</a></span></li><li><span><a href=\"#Importing-Modules\" data-toc-modified-id=\"Importing-Modules-1.2\"><span class=\"toc-item-num\">1.2&nbsp;&nbsp;</span>Importing Modules</a></span></li><li><span><a href=\"#What-is-Xarray?\" data-toc-modified-id=\"What-is-Xarray?-1.3\"><span class=\"toc-item-num\">1.3&nbsp;&nbsp;</span>What is Xarray?</a></span></li><li><span><a href=\"#Reading-in-a-netCDF-file-Using-xarray.open_dataset\" data-toc-modified-id=\"Reading-in-a-netCDF-file-Using-xarray.open_dataset-1.4\"><span class=\"toc-item-num\">1.4&nbsp;&nbsp;</span>Reading in a netCDF file Using xarray.open_dataset</a></span><ul class=\"toc-item\"><li><span><a href=\"#What-is-an-Xarray-DataSet-anyway?\" data-toc-modified-id=\"What-is-an-Xarray-DataSet-anyway?-1.4.1\"><span class=\"toc-item-num\">1.4.1&nbsp;&nbsp;</span>What is an Xarray DataSet anyway?</a></span></li><li><span><a href=\"#What-is-an-Xarray-DataArray?\" data-toc-modified-id=\"What-is-an-Xarray-DataArray?-1.4.2\"><span class=\"toc-item-num\">1.4.2&nbsp;&nbsp;</span>What is an Xarray DataArray?</a></span></li></ul></li><li><span><a href=\"#Task-1---Select-a-different-variable-from-the-dataset-ds\" data-toc-modified-id=\"Task-1---Select-a-different-variable-from-the-dataset-ds-1.5\"><span class=\"toc-item-num\">1.5&nbsp;&nbsp;</span>Task 1 - Select a different variable from the dataset ds</a></span></li><li><span><a href=\"#Task-2---Convert-your-DataArray-to-a-DataSet\" data-toc-modified-id=\"Task-2---Convert-your-DataArray-to-a-DataSet-1.6\"><span class=\"toc-item-num\">1.6&nbsp;&nbsp;</span>Task 2 - Convert your DataArray to a DataSet</a></span></li><li><span><a href=\"#Task-3---Getting-coords,-dims,-and-attrs-information-out-of-the-DataSet/DataArray\" data-toc-modified-id=\"Task-3---Getting-coords,-dims,-and-attrs-information-out-of-the-DataSet/DataArray-1.7\"><span class=\"toc-item-num\">1.7&nbsp;&nbsp;</span>Task 3 - Getting coords, dims, and attrs information out of the DataSet/DataArray</a></span></li><li><span><a href=\"#Going-Further\" data-toc-modified-id=\"Going-Further-1.8\"><span class=\"toc-item-num\">1.8&nbsp;&nbsp;</span>Going Further</a></span></li></ul></li></ul></div>"
   ]
  },
  {
   "cell_type": "markdown",
   "metadata": {},
   "source": [
    "## Learning Objectives\n",
    "\n",
    "- Understand and work with Python modules\n",
    "- Get familiar with Xarray and its core data structures"
   ]
  },
  {
   "cell_type": "markdown",
   "metadata": {},
   "source": [
    "----------------"
   ]
  },
  {
   "cell_type": "markdown",
   "metadata": {},
   "source": [
    "## Importing Modules\n",
    "\n",
    "Modules are `.py` Python files that consist of Python code to be called upon (read: imported) into other Python files or in the command line. A module contains Python classes, functions, or variables to be referenced elsewhere.\n",
    "\n",
    "You can `import` a whole package under an alias using the `as` keyword, or import only selected functions using `from`.\n",
    "\n",
    "It is common practice to import all modules at once at the beginning of a script, but we will import modules as we use them for clarity of each module's application. For this notebook you will only need xarray."
   ]
  },
  {
   "cell_type": "code",
   "execution_count": null,
   "metadata": {},
   "outputs": [],
   "source": [
    "import xarray as xr"
   ]
  },
  {
   "cell_type": "markdown",
   "metadata": {},
   "source": [
    "Did that work for you? If you do not have xarray installed it won't work. \n"
   ]
  },
  {
   "cell_type": "markdown",
   "metadata": {},
   "source": [
    "----------------"
   ]
  },
  {
   "cell_type": "markdown",
   "metadata": {},
   "source": [
    "## What is Xarray?\n",
    "\n",
    "**Xarray** is an open source library providing high-level, easy-to-use data structures and analysis tools for working with **multi-dimensional labeled** datasets and arrays in Python.\n"
   ]
  },
  {
   "cell_type": "markdown",
   "metadata": {},
   "source": [
    "## Reading in a netCDF file Using xarray.open_dataset\n",
    "\n",
    "\n",
    "**To open a netCDF file**, we call the `xarray.open_dataset` function by passing in the relative/absolute file path.\n",
    "\n",
    "Let's open the netCDF file that contains the dataset we will be using."
   ]
  },
  {
   "cell_type": "code",
   "execution_count": null,
   "metadata": {},
   "outputs": [],
   "source": [
    "path = '../../../data/'\n",
    "file = path + 'thetao_Omon_historical_GISS-E2-1-G_r1i1p1f1_gn_185001-187012.nc'\n",
    "\n",
    "ds = xr.open_dataset(file)"
   ]
  },
  {
   "cell_type": "markdown",
   "metadata": {},
   "source": [
    "The `open_dataset` function opens the file and returns an xarray dataset."
   ]
  },
  {
   "cell_type": "markdown",
   "metadata": {},
   "source": [
    "### What is an Xarray DataSet anyway?\n",
    "\n",
    "- Xarray's `Dataset` is a container of labeled arrays (`DataArrays`) with aligned dimensions. \n",
    "\n",
    "- It is designed as an in-memory representation of a netCDF dataset. \n",
    "\n",
    "\n",
    "- `Dataset` holds multiple variables that potentially share the same coordinates\n",
    "\n",
    "![](../../bytopic/xarray/images/xarray-data-structures.png)\n",
    "\n",
    "\n",
    "\n",
    "- Xarray Datasets have the following key properties:\n",
    "\n",
    "\n",
    "| Attribute   \t| Description                                                                                                                              \t|\n",
    "|-------------\t|------------------------------------------------------------------------------------------------------------------------------------------\t|\n",
    "| `data_vars` \t| a dictionary of `DataArray` objects corresponding to data variables.                                                                      \t|\n",
    "| `dims`      \t| dictionary mapping from dimension names to the fixed length of each dimension  (e.g., {`lat`: 6, `lon`: 6, `time`: 8}).                  \t|\n",
    "| `coords`    \t| a  container of arrays (coordinates) that label each point (e.g., 1-dimensional arrays of numbers, datetime objects or strings) \t|\n",
    "| `attrs`     \t| a dictionary to hold arbitrary metadata pertaining to the dataset.                                                                        \t|\n",
    "| `name`      \t| an arbitrary name of the dataset                                                                                                         \t|"
   ]
  },
  {
   "cell_type": "markdown",
   "metadata": {},
   "source": [
    "Here's the netCDF dataset content with `ncdump`"
   ]
  },
  {
   "cell_type": "code",
   "execution_count": null,
   "metadata": {},
   "outputs": [],
   "source": [
    "!ncdump -h ../../../data/thetao_Omon_historical_GISS-E2-1-G_r1i1p1f1_gn_185001-187012.nc"
   ]
  },
  {
   "cell_type": "markdown",
   "metadata": {},
   "source": [
    "Here's the same content in our xarray dataset"
   ]
  },
  {
   "cell_type": "code",
   "execution_count": null,
   "metadata": {},
   "outputs": [],
   "source": [
    "ds"
   ]
  },
  {
   "cell_type": "markdown",
   "metadata": {},
   "source": [
    "----------------------"
   ]
  },
  {
   "cell_type": "markdown",
   "metadata": {},
   "source": [
    "### What is an Xarray DataArray?\n",
    "\n",
    "- The DataArray is xarray's implementation of a labeled, multi-dimensional array. \n",
    "- It only contains information pertaining to one variable (all relevant coordinates, dimensions, and attributes). This is in contrast to the Dataset, which is a container for DataArrays.\n",
    "\n",
    "\n",
    "It has several key properties:\n",
    "\n",
    "| Attribute \t| Description                                                                                                                              \t|\n",
    "|-----------\t|------------------------------------------------------------------------------------------------------------------------------------------\t|\n",
    "| `data`    \t| `numpy.ndarray` or `dask.array` holding the array's values.                                                                              \t|\n",
    "| `dims`    \t| dimension names for each axis. For example:(`x`, `y`, `z`) (`lat`, `lon`, `time`).                                                       \t|\n",
    "| `coords`  \t| a dict-like container of arrays (coordinates) that label each point (e.g., 1-dimensional arrays of numbers, datetime objects or strings) \t|\n",
    "| `attrs`   \t| an `OrderedDict` to hold arbitrary attributes/metadata (such as units)                                                                   \t|\n",
    "| `name`    \t| an arbitrary name of the array                                                                                                           \t|\n",
    "\n",
    "\n",
    "<div class=\"alert alert-block alert-warning\">\n",
    "NumPy and Dask are covered in other notebooks. See <a href=\"#Going-Further\">Going Further</a> section for more information.\n",
    "</div>"
   ]
  },
  {
   "cell_type": "markdown",
   "metadata": {},
   "source": [
    "You can extract a dataarray from a dataset in the following two ways:"
   ]
  },
  {
   "cell_type": "code",
   "execution_count": null,
   "metadata": {},
   "outputs": [],
   "source": [
    "da = ds['thetao']\n",
    "da"
   ]
  },
  {
   "cell_type": "code",
   "execution_count": null,
   "metadata": {},
   "outputs": [],
   "source": [
    "da = ds.thetao\n",
    "da"
   ]
  },
  {
   "cell_type": "markdown",
   "metadata": {},
   "source": [
    "<h2 style=\"color:red\">Task 1 - Select a different variable from the dataset ds</h2>\n",
    "\n",
    "Now you try isolating a DataArray for any other variable in the DataSet in the code cell block below:"
   ]
  },
  {
   "cell_type": "code",
   "execution_count": null,
   "metadata": {},
   "outputs": [],
   "source": [
    "# Your code here"
   ]
  },
  {
   "cell_type": "code",
   "execution_count": null,
   "metadata": {},
   "outputs": [],
   "source": [
    "# %load solutions/solution_1_1.py"
   ]
  },
  {
   "cell_type": "markdown",
   "metadata": {},
   "source": [
    "<div class=\"alert alert-block alert-warning\">\n",
    "You can convert a DataArray back to a DataSet using your_xarray_datarray.to_dataset(). You would want to do this if you plan on adding new dimension, coordinate, or attribute information.\n",
    "</div>"
   ]
  },
  {
   "cell_type": "markdown",
   "metadata": {},
   "source": [
    "<h2 style=\"color:red\">Task 2 - Convert your DataArray to a DataSet</h2>\n",
    "\n",
    "Use `to_dataset` in the code cell block below:"
   ]
  },
  {
   "cell_type": "code",
   "execution_count": null,
   "metadata": {},
   "outputs": [],
   "source": [
    "# Your code here"
   ]
  },
  {
   "cell_type": "code",
   "execution_count": null,
   "metadata": {},
   "outputs": [],
   "source": [
    "# %load solutions/solution_1_2.py"
   ]
  },
  {
   "cell_type": "markdown",
   "metadata": {},
   "source": [
    "<h2 style=\"color:red\">Task 3 - Getting coords, dims, and attrs information out of the DataSet/DataArray</h2>\n",
    "\n",
    "Play with the command `ds.coords` for your dataset `ds` or DataArray `da` for `coords`, `dims`, and `attrs` in the code cell block below:"
   ]
  },
  {
   "cell_type": "code",
   "execution_count": null,
   "metadata": {},
   "outputs": [],
   "source": [
    "# Your code here"
   ]
  },
  {
   "cell_type": "code",
   "execution_count": null,
   "metadata": {},
   "outputs": [],
   "source": [
    "# %load solutions/solution_1_3.py"
   ]
  },
  {
   "cell_type": "markdown",
   "metadata": {},
   "source": [
    "Do you understand the difference between how Xarray treats coordinates and dimensions? Can you figure it out?"
   ]
  },
  {
   "cell_type": "markdown",
   "metadata": {},
   "source": [
    "-----------"
   ]
  },
  {
   "cell_type": "markdown",
   "metadata": {},
   "source": [
    "## Going Further\n",
    "\n",
    "\n",
    "- [More in-depth xarray tutorial](../../bytopic/xarray/01_getting_started_with_xarray.ipynb)\n",
    "- [More in-depth numpy tutorial](../../bytopic/numpy/01_getting_started_with_numpy.ipynb)\n",
    "- [Xarray Documentation](http://xarray.pydata.org/en/stable/index.html)\n",
    "- [NumPy Documentation](https://numpy.org/)\n",
    "- [Dask Documentation](https://dask.org/)"
   ]
  },
  {
   "cell_type": "markdown",
   "metadata": {},
   "source": [
    "<div class=\"alert alert-block alert-success\">\n",
    "   <p>Previous: <a href=\"00_intro.ipynb\">Introduction</a></p>\n",
    "  <p>Next: <a href=\"02_subselecting_and_indexing_data.ipynb\">Book 2 of 4: Subselecting and Indexing Data</a></p>\n",
    "</div>"
   ]
  }
 ],
 "metadata": {
  "kernelspec": {
   "display_name": "Python 3",
   "language": "python",
   "name": "python3"
  },
  "language_info": {
   "codemirror_mode": {
    "name": "ipython",
    "version": 3
   },
   "file_extension": ".py",
   "mimetype": "text/x-python",
   "name": "python",
   "nbconvert_exporter": "python",
   "pygments_lexer": "ipython3",
   "version": "3.7.1"
  },
  "toc": {
   "base_numbering": 1,
   "nav_menu": {},
   "number_sections": true,
   "sideBar": true,
   "skip_h1_title": false,
   "title_cell": "Table of Contents",
   "title_sidebar": "Contents",
   "toc_cell": true,
   "toc_position": {},
   "toc_section_display": true,
   "toc_window_display": true
  }
 },
 "nbformat": 4,
 "nbformat_minor": 2
}
